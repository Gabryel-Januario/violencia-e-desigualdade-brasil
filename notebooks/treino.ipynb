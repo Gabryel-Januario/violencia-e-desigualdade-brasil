{
 "cells": [
  {
   "cell_type": "code",
   "execution_count": 13,
   "id": "404d2abf",
   "metadata": {},
   "outputs": [],
   "source": [
    "import sys\n",
    "import os\n",
    "sys.path.append(os.path.abspath('..')) \n",
    "\n",
    "from src.Data_handler import Data_handler\n",
    "from src.PlotGenerator import PlotGenerator\n",
    "from src.utils.Utils import Utils\n",
    "\n",
    "mortes_violentas_csv_path = os.path.join('../datas', 'mortes-violentas.csv' )\n",
    "indice_gini_csv_path = os.path.join('../datas', 'ipeadata[05-06-2025-04-16].csv' )\n",
    "\n",
    "dh_mv = Data_handler(mortes_violentas_csv_path)\n",
    "dh_gini = Data_handler(indice_gini_csv_path)\n",
    "\n",
    "df_mv = dh_mv.load_csv()\n",
    "df_gini = dh_gini.load_csv(skiprows=1)\n",
    "\n",
    "df_mv = dh_mv.clean_data()\n",
    "df_gini = dh_gini.clean_data()\n",
    "\n",
    "for i in range(2012, 2023):\n",
    "    df_gini[str(i)] = df_gini[str(i)].str.replace(',', '.').astype(float)\n",
    "\n",
    "df_gini_long = dh_gini.gini_df_to_long(df=df_gini)\n",
    "df_gini_long = df_gini_long.rename(columns={'Sigla': 'UF', 'Ano': 'ano'})\n",
    "\n",
    "df_mv_filtrado = df_mv[(df_mv['periodo'] >= 2012) & (df_mv['periodo'] <= 2022)]\n",
    "df_mv_filtrado = df_mv_filtrado.rename(columns={'nome': 'UF', 'periodo': 'ano'})\n",
    "\n",
    "utils_df_mv = Utils(df=df_mv_filtrado)\n",
    "utils_df_mv.column_type_converter(column_name='ano', type=int)\n",
    "utils_df_mv.column_type_converter(column_name='valor', type=int)\n",
    "\n",
    "utils_df_gini = Utils(df=df_gini_long)\n",
    "utils_df_gini.column_type_converter(column_name='ano', type=int)"
   ]
  },
  {
   "cell_type": "code",
   "execution_count": 14,
   "id": "c800c3db",
   "metadata": {},
   "outputs": [
    {
     "name": "stdout",
     "output_type": "stream",
     "text": [
      "cod       int64\n",
      "UF       object\n",
      "ano       int64\n",
      "valor     int64\n",
      "dtype: object\n",
      "UF          object\n",
      "CÃ³digo      int64\n",
      "Estado      object\n",
      "ano          int64\n",
      "Gini       float64\n",
      "dtype: object\n"
     ]
    }
   ],
   "source": [
    "\n",
    "\n",
    "print(df_mv_filtrado.dtypes )\n",
    "\n",
    "print(df_gini_long.dtypes)"
   ]
  },
  {
   "cell_type": "code",
   "execution_count": 16,
   "id": "1f31ebd5",
   "metadata": {},
   "outputs": [
    {
     "name": "stdout",
     "output_type": "stream",
     "text": [
      "     UF   ano   Gini  valor\n",
      "0    AC  2012  0.566    531\n",
      "1    AC  2012  0.566    531\n",
      "2    AL  2012  0.503   3367\n",
      "3    AL  2012  0.503   3367\n",
      "4    AM  2012  0.589   2678\n",
      "..   ..   ...    ...    ...\n",
      "508  RS  2022  0.467   7910\n",
      "509  SC  2022  0.419   4762\n",
      "510  SE  2022  0.528   1922\n",
      "511  SP  2022  0.500  24332\n",
      "512  TO  2022  0.507   1516\n",
      "\n",
      "[513 rows x 4 columns]\n"
     ]
    }
   ],
   "source": [
    "import pandas as pd\n",
    "\n",
    "df_combinado = pd.merge(df_gini_long[['UF', 'ano', 'Gini']], df_mv_filtrado[['UF', 'ano', 'valor']], on=['UF', 'ano'])\n",
    "\n",
    "print(df_combinado)"
   ]
  }
 ],
 "metadata": {
  "kernelspec": {
   "display_name": "Python 3",
   "language": "python",
   "name": "python3"
  },
  "language_info": {
   "codemirror_mode": {
    "name": "ipython",
    "version": 3
   },
   "file_extension": ".py",
   "mimetype": "text/x-python",
   "name": "python",
   "nbconvert_exporter": "python",
   "pygments_lexer": "ipython3",
   "version": "3.12.10"
  }
 },
 "nbformat": 4,
 "nbformat_minor": 5
}
